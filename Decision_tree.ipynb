{
  "nbformat": 4,
  "nbformat_minor": 0,
  "metadata": {
    "colab": {
      "provenance": [],
      "toc_visible": true,
      "authorship_tag": "ABX9TyMCxeUnMu71QxlWLcMKnxL6",
      "include_colab_link": true
    },
    "kernelspec": {
      "name": "python3",
      "display_name": "Python 3"
    },
    "language_info": {
      "name": "python"
    }
  },
  "cells": [
    {
      "cell_type": "markdown",
      "metadata": {
        "id": "view-in-github",
        "colab_type": "text"
      },
      "source": [
        "<a href=\"https://colab.research.google.com/github/Dashnyam7/Scratch/blob/main/Decision_tree.ipynb\" target=\"_parent\"><img src=\"https://colab.research.google.com/assets/colab-badge.svg\" alt=\"Open In Colab\"/></a>"
      ]
    },
    {
      "cell_type": "markdown",
      "source": [
        "# What is decision tree?"
      ],
      "metadata": {
        "id": "es3ST10zjplh"
      }
    },
    {
      "cell_type": "markdown",
      "source": [
        "A decision tree repeats conditional branching of data represented by attribute-value pairs {attribute 1: value 1, attribute 2: value 2, attribute 3: value 3, ..., attribute n: value n } . A tree-structured graph that can be assigned to a class"
      ],
      "metadata": {
        "id": "-1CtchskkmUk"
      }
    },
    {
      "cell_type": "code",
      "source": [
        "class  ScratchDecesionTreeClassifier ():\n",
        "  def __init__(self, verbose=False):\n",
        "      self.verbose = verbose\n",
        "  def fit(self):\n",
        "      pass      \n",
        "  def predict(self):\n",
        "      pass\n",
        "  def _calc_gini(self):\n",
        "      pass\n",
        "  def _calc_ig(self):\n",
        "      pass"
      ],
      "metadata": {
        "id": "39rG3o4Hkm0a"
      },
      "execution_count": 31,
      "outputs": []
    },
    {
      "cell_type": "markdown",
      "source": [
        "Line 1: Class definition\n",
        "\n",
        "Line 2: Constructor definition. I am passing the following \n",
        "as arguments: verbose (whether to output the learning process)\n",
        "\n",
        "3rd line: verbose member variables\n",
        "\n",
        "4th to 5th lines: Learning function. Since it is a template, we define a function with pass.\n",
        "\n",
        "Lines 6-7: Prediction function.\n",
        "\n",
        "Lines 8 and 9: A function to calculate the Gini impurity.\n",
        "\n",
        "10th to 11th lines: A function to calculate the information gain."
      ],
      "metadata": {
        "id": "ytN0Evvnk4Wa"
      }
    },
    {
      "cell_type": "markdown",
      "source": [
        "# Find Gini impurity"
      ],
      "metadata": {
        "id": "RGPsu8kgk45h"
      }
    },
    {
      "cell_type": "markdown",
      "source": [
        "Gini impurity is a measure of the randomness of the data given to the nodes of the decision tree.\n",
        "The lower the number, the better, and the more mixed the classes, the higher the Gini impurity.\n",
        "The Gini impurity is obtained by computing the Gini impurity of the node . The Gini impurity $I(t)$ for node $t$ is given by the following formula:"
      ],
      "metadata": {
        "id": "nxAmLo7MlJa1"
      }
    },
    {
      "cell_type": "markdown",
      "source": [
        "![image.png](data:image/png;base64,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)\n",
        "\n",
        "$t$ : node index\n",
        "\n",
        "$i$ : class index\n",
        "\n",
        "$K$ : number of classes\n",
        "\n",
        "$C_i$ : i-th class\n",
        "\n",
        "$P(C_i|t)$ : Proportion of $C_i$ at tth node\n",
        "\n",
        "$N_{t,i}$ : Number of samples belonging to i-th class of t-th node\n",
        "\n",
        "$N_{t,all}$ : total number of samples of tth node"
      ],
      "metadata": {
        "id": "a2huUbhCqa2c"
      }
    },
    {
      "cell_type": "markdown",
      "source": [
        "Gini Impurity Calculation Examples:\n",
        "\n",
        "Class 1: 15 samples, Class 2: 15 samples → Gini impurity 0.500\n",
        "\n",
        "Class 1: 15 samples, Class 2: 15 samples, Class 3: 15 samples → Gini impurity 0.667\n",
        "\n",
        "Class 1: 18 samples, Class 2: 12 samples → Gini impurity 0.480\n",
        "\n",
        "Class 1: 30 samples, Class 2: 0 samples → Gini impurity 0.000"
      ],
      "metadata": {
        "id": "sEPzHBt3qhJy"
      }
    },
    {
      "cell_type": "code",
      "execution_count": 32,
      "metadata": {
        "id": "gMS-2SrajneA"
      },
      "outputs": [],
      "source": [
        "def _calc_gini(self,y):\n",
        "    labels,counts = np.unique(y,return_counts=True)\n",
        "    _gini = 0\n",
        "    for label in labels:\n",
        "        _gini += (counts[labels==label]/np.sum(counts))**2\n",
        "    gini = 1 - _gini\n",
        "    return gini"
      ]
    },
    {
      "cell_type": "markdown",
      "source": [
        "Line 1: Function definition.\n",
        "\n",
        "Line 2: As an argument, the second line receives the variable y that stores the class (label) : the class (label) included in y and the number of the class (label) The\n",
        "\n",
        "Line 3: Gini impurity (Σ in the above formula) is initialized as 0\n",
        "\n",
        "Line 4: Looping with the class (label) obtained in Line 2 \n",
        "\n",
        "Line 5: For the Gini impurity initialized with 0, (the number of applicable labels/total number) ^2 and adding\n",
        "\n",
        "line 6: subtracting the calculated Gini impurity from 1 to calculate the final Gini impurity\n",
        "\n",
        "line 7: returning the Gini impurity"
      ],
      "metadata": {
        "id": "efwelO0uq6li"
      }
    },
    {
      "cell_type": "markdown",
      "source": [
        "# Find informarion gain"
      ],
      "metadata": {
        "id": "cEi-LKVZrZYV"
      }
    },
    {
      "cell_type": "markdown",
      "source": [
        "Information gain is a measure of the accuracy of node splitting. Since there are only two branches here, the branch destinations are called \"left node/right node\".\n",
        "\n",
        "![image.png](data:image/png;base64,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)\n",
        "\n",
        "$p$ : index indicating the parent node\n",
        "\n",
        "$left$ : index indicating left node\n",
        "\n",
        "$right$ : index indicating right node"
      ],
      "metadata": {
        "id": "sF-Av8QItala"
      }
    },
    {
      "cell_type": "markdown",
      "source": [
        "example:\n",
        "\n",
        "Left node class 1: 10 samples\n",
        "\n",
        "Left node class 2: 30 samples\n",
        "\n",
        "Right node class 1: 20 samples\n",
        "\n",
        "Right node class 2: 5 samples\n",
        "\n",
        "→ Information gain 0.143"
      ],
      "metadata": {
        "id": "Bse2NPMv6-p2"
      }
    },
    {
      "cell_type": "code",
      "source": [
        "def _calc_ig(self,X,feature_index,y,threshold):\n",
        "    labels_l = y[X[:,feature_index] < threshold]\n",
        "    labels_r = y[X[:,feature_index] >= threshold]\n",
        "    gain_l = (len(labels_l)/(len(labels_l)+len(labels_r)))*self.calc_gini(labels_l)\n",
        "    gain_r = (len(labels_r)/(len(labels_l)+len(labels_r)))*self.calc_gini(labels_r)\n",
        "    gain = self.calc_gini(y) -gain_l -gain_r\n",
        "    return gain"
      ],
      "metadata": {
        "id": "Vg-uKLxk7JC-"
      },
      "execution_count": 33,
      "outputs": []
    },
    {
      "cell_type": "markdown",
      "source": [
        "Line 1: Function definition. As arguments, it receives the explanatory variable X, the index feature_index of which explanatory variable to use, the objective variable y, and the branching condition (threshold) threshold of the explanatory variable to be used (* The explanatory variable to be used is the feature_index-th variable of X)\n",
        "\n",
        "Line 2: As labels_l, y is divided based on the explanatory variable threshold to be used (left node: $N_{left,all}$)\n",
        "\n",
        "Line 3: As labels_r, y is divided based on the explanatory variable threshold to be used (right node: $N_{right,all}$)\n",
        "\n",
        "Line 4: Calculation of $\\frac{N_{left,all}}{N_{p,all}}I(left)$ part\n",
        "\n",
        "5 lines: $\\frac{N_{right,all}}{N_{p,all}}I(right)$ part of the calculation\n",
        "\n",
        "Line 6: Calculation of overall information gain. Store the calculation result in gain\n",
        "\n",
        "Line 7: Return gain as a return value"
      ],
      "metadata": {
        "id": "dnvrDtc363YF"
      }
    },
    {
      "cell_type": "markdown",
      "source": [
        "# Learning and estimation (fit, predict)"
      ],
      "metadata": {
        "id": "861WaAfK7Liv"
      }
    },
    {
      "cell_type": "code",
      "source": [
        "def fit(self, X, y):\n",
        "    self.gain = 0\n",
        "    for feature_index in range(X.shape[1]):\n",
        "        self.thresholds = np.unique(X[:,feature_index])\n",
        "        for threshold in self.thresholds:\n",
        "            _gain = self.calc_gain(X,feature_index,y,threshold)\n",
        "            if _gain > self.gain:\n",
        "                self.l_label = collections.Counter(y[X[:,feature_index] < threshold]).most_common()[0][0]\n",
        "                self.r_label = collections.Counter(y[X[:,feature_index] >= threshold]).most_common()[0][0]\n",
        "                self.feature = feature_index\n",
        "                self.threshold = threshold\n",
        "                self.gain = _gain\n",
        "                if self.verbose:\n",
        "                    print('feature',self.feature,'threshold',self.threshold,'gain',self.gain)"
      ],
      "metadata": {
        "id": "cHj4WnAdqf_G"
      },
      "execution_count": 34,
      "outputs": []
    },
    {
      "cell_type": "markdown",
      "source": [
        "Line 1: Function definition. Receiving explanatory variable X and objective variable y as arguments\n",
        "\n",
        "Line 2: Initialization of information gain\n",
        "\n",
        "Line 3: Loop with the number of explanatory variables and use the index of the explanatory variable in the loop\n",
        "\n",
        "Line 4: Applicable Find the unique value of the explanatory variable\n",
        "\n",
        "Line 5: Loop with the unique value found in Line 4 Line\n",
        "\n",
        "Line 6: Pass various arguments to the function that seeks information gain and obtain information gain\n",
        "\n",
        "Line 7: self.gain and 6 The information gain obtained in the row is compared, and if the information gain is greater than self.gain, the following processing is performed. Otherwise, return to loop processing.\n",
        "\n",
        "Line 8: Output the value with the highest frequency of occurrence among the values ​​of the objective variable y that are classified into the left node.\n",
        "\n",
        "Line 9: Classify into the right node. Among the values ​​of the objective variable y, the value with the highest frequency of appearance is the output of the right node\n",
        "\n",
        "Line 10: Update the index of the adopted explanatory variable\n",
        "\n",
        "Line 11: Update the threshold of the adopted explanatory variable\n",
        "\n",
        "Line 12: Update information gain\n",
        "\n",
        "Line 13: Check output settings\n",
        "\n",
        "Line 14: Output of learning process"
      ],
      "metadata": {
        "id": "rlnPtI727b31"
      }
    },
    {
      "cell_type": "code",
      "source": [
        "def predict(self, X):\n",
        "    prediction = np.where(X[:,self.feature] < self.threshold,self.l_label,self.r_label)\n",
        "    return prediction"
      ],
      "metadata": {
        "id": "7LbziPpN8LaO"
      },
      "execution_count": 35,
      "outputs": []
    },
    {
      "cell_type": "markdown",
      "source": [
        "Line 1: Function definition. The second line that receives the explanatory variable X as an argument\n",
        "\n",
        "Line 2: Branch using the \"recorded index and threshold of the explanatory variable\" described above, and finalize based on the \"recorded left and right node output results\" 3rd line calculating the expected output\n",
        "Line 3: Returning the predicted value as a return value"
      ],
      "metadata": {
        "id": "Xoo2dxA58I-1"
      }
    },
    {
      "cell_type": "markdown",
      "source": [
        "# Implementation and visualization"
      ],
      "metadata": {
        "id": "oJ1sB9gw8YCO"
      }
    },
    {
      "cell_type": "code",
      "source": [
        "import numpy as np\n",
        "import collections\n",
        "class ScratchDecesionTreeClassifier():\n",
        "    \"\"\"\n",
        "    Scratch implementation of a decision tree classifier\n",
        "\n",
        "    Parameters\n",
        "    ----------\n",
        "    verbose : bool\n",
        "      True to print the learning process\n",
        "    \"\"\"\n",
        "\n",
        "    def __init__(self, verbose=False):\n",
        "        # Record hyperparameters as attributes\n",
        "        self.verbose = verbose\n",
        "\n",
        "    def _calc_gini(self,y):\n",
        "        labels,counts = np.unique(y,return_counts=True)\n",
        "        _gini = 0\n",
        "        for label in labels:\n",
        "            _gini += (counts[labels==label]/np.sum(counts))**2\n",
        "        gini = 1 - _gini\n",
        "        return gini\n",
        "    \n",
        "    def _calc_ig(self,X,feature_index,y,threshold):\n",
        "        labels_l = y[X[:,feature_index] < threshold]\n",
        "        labels_r = y[X[:,feature_index] >= threshold]\n",
        "        gain_l = (len(labels_l)/(len(labels_l)+len(labels_r)))*self._calc_gini(labels_l)\n",
        "        gain_r = (len(labels_r)/(len(labels_l)+len(labels_r)))*self._calc_gini(labels_r)\n",
        "        gain = self._calc_gini(y) -gain_l -gain_r\n",
        "        return gain\n",
        "\n",
        "    def fit(self, X, y):\n",
        "        \"\"\"\n",
        "        Train a decision tree classifier\n",
        "        Parameters\n",
        "        ----------\n",
        "        X : ndarray, shape (n_samples, n_features)\n",
        "            Features of training data\n",
        "        y : ndarray, shape (n_samples, )\n",
        "            Correct value of training data\n",
        "        \"\"\"\n",
        "        self.gain = 0\n",
        "        for feature_index in range(X.shape[1]):\n",
        "            self.thresholds = np.unique(X[:,feature_index])\n",
        "            for threshold in self.thresholds:\n",
        "                _gain = self._calc_ig(X,feature_index,y,threshold)\n",
        "                if _gain > self.gain:\n",
        "                    self.l_label = collections.Counter(y[X[:,feature_index] < threshold]).most_common()[0][0]\n",
        "                    self.r_label = collections.Counter(y[X[:,feature_index] >= threshold]).most_common()[0][0]\n",
        "                    self.feature = feature_index\n",
        "                    self.threshold = threshold\n",
        "                    self.gain = _gain\n",
        "                    if self.verbose:\n",
        "                        print('feature',self.feature,'threshold',self.threshold,'gain',self.gain)\n",
        "\n",
        "    def predict(self, X):\n",
        "        \"\"\"\n",
        "        Estimate labels using a decision tree classifier\n",
        "        \"\"\"\n",
        "        prediction = np.where(X[:,self.feature] < self.threshold,self.l_label,self.r_label)\n",
        "        return prediction"
      ],
      "metadata": {
        "id": "9CBryrJi8u68"
      },
      "execution_count": 36,
      "outputs": []
    },
    {
      "cell_type": "code",
      "source": [
        "import numpy as np\n",
        "import pandas as pd\n",
        "from sklearn.datasets import load_iris\n",
        "from sklearn.model_selection import train_test_split\n",
        "iris_dataset = load_iris()\n",
        "X_train, X_test, y_train, y_test = train_test_split(iris_dataset['data'], iris_dataset['target'],test_size=0.3, random_state=0)"
      ],
      "metadata": {
        "id": "vihbYfcU8hZE"
      },
      "execution_count": 37,
      "outputs": []
    },
    {
      "cell_type": "code",
      "source": [
        "clf = ScratchDecesionTreeClassifier(verbose = True)\n",
        "clf.fit(X_train,y_train)"
      ],
      "metadata": {
        "colab": {
          "base_uri": "https://localhost:8080/"
        },
        "id": "q662RAWR8lOU",
        "outputId": "d08eade1-807c-476b-b81d-bd09ed356585"
      },
      "execution_count": 38,
      "outputs": [
        {
          "output_type": "stream",
          "name": "stdout",
          "text": [
            "feature 0 threshold 4.4 gain [0.00661608]\n",
            "feature 0 threshold 4.5 gain [0.02023743]\n",
            "feature 0 threshold 4.6 gain [0.0272504]\n",
            "feature 0 threshold 4.7 gain [0.04914804]\n",
            "feature 0 threshold 4.8 gain [0.05674825]\n",
            "feature 0 threshold 4.9 gain [0.08051913]\n",
            "feature 0 threshold 5.0 gain [0.08232605]\n",
            "feature 0 threshold 5.1 gain [0.10829932]\n",
            "feature 0 threshold 5.2 gain [0.16933821]\n",
            "feature 0 threshold 5.3 gain [0.19172982]\n",
            "feature 0 threshold 5.4 gain [0.20342287]\n",
            "feature 0 threshold 5.5 gain [0.24063492]\n",
            "feature 2 threshold 1.7 gain [0.28824661]\n",
            "feature 2 threshold 3.0 gain [0.32949954]\n"
          ]
        }
      ]
    },
    {
      "cell_type": "code",
      "source": [
        "train_prediction = clf.predict(X_train)"
      ],
      "metadata": {
        "id": "SeVc-6BSpLo-"
      },
      "execution_count": 39,
      "outputs": []
    },
    {
      "cell_type": "markdown",
      "source": [
        "Visualization"
      ],
      "metadata": {
        "id": "wUyZMQXo8e0V"
      }
    },
    {
      "cell_type": "code",
      "source": [
        "def decision_region(X,y,slr):\n",
        "    mesh_f0, mesh_f1  = np.meshgrid(\n",
        "        np.arange(np.min(X[:,0]), np.max(X[:,0]), 0.01), \n",
        "        np.arange(np.min(X[:,1]), np.max(X[:,1]), 0.01)\n",
        "    )\n",
        "    mesh = np.c_[np.ravel(mesh_f0),np.ravel(mesh_f1)]\n",
        "    y_pred = slr.predict(mesh).reshape(mesh_f0.shape)\n",
        "    plt.title('decision region')\n",
        "    plt.xlabel('feature0')\n",
        "    plt.ylabel('feature1')\n",
        "    plt.contourf(mesh_f0, mesh_f1, y_pred,cmap=ListedColormap(['pink', 'skyblue']))\n",
        "    plt.contour(mesh_f0, mesh_f1, y_pred,colors='red')\n",
        "    plt.scatter(X[y==0][:, 0], X[y==0][:, 1],label='0')\n",
        "    plt.scatter(X[y==1][:, 0], X[y==1][:, 1],label='1')\n",
        "    plt.legend()\n",
        "    plt.show()"
      ],
      "metadata": {
        "id": "qPqkw24yvnXp"
      },
      "execution_count": 40,
      "outputs": []
    }
  ]
}