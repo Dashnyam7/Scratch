{
  "nbformat": 4,
  "nbformat_minor": 0,
  "metadata": {
    "colab": {
      "provenance": [],
      "toc_visible": true,
      "authorship_tag": "ABX9TyP/2i2HujrOXv/kblgRwI6H",
      "include_colab_link": true
    },
    "kernelspec": {
      "name": "python3",
      "display_name": "Python 3"
    },
    "language_info": {
      "name": "python"
    }
  },
  "cells": [
    {
      "cell_type": "markdown",
      "metadata": {
        "id": "view-in-github",
        "colab_type": "text"
      },
      "source": [
        "<a href=\"https://colab.research.google.com/github/Dashnyam7/Scratch/blob/main/What_is_scratch.ipynb\" target=\"_parent\"><img src=\"https://colab.research.google.com/assets/colab-badge.svg\" alt=\"Open In Colab\"/></a>"
      ]
    },
    {
      "cell_type": "markdown",
      "source": [
        "# Scratch definition"
      ],
      "metadata": {
        "id": "yL8E7YOuoL1y"
      }
    },
    {
      "cell_type": "markdown",
      "source": [
        "The idea here is to use basic libraries like NumPy to implement well-known classes and algorithms of machine learning.\n",
        "First, start with the train_test_split class. This is used to split the dataset into a training (learning the model) set and a test (testing the model) set."
      ],
      "metadata": {
        "id": "c7hAbefVoQwj"
      }
    },
    {
      "cell_type": "markdown",
      "source": [
        "# Problem 1 scratch on train_test_split"
      ],
      "metadata": {
        "id": "OIcC3rD_oaAK"
      }
    },
    {
      "cell_type": "code",
      "execution_count": 1,
      "metadata": {
        "id": "I1D4YUduoHIQ"
      },
      "outputs": [],
      "source": [
        "def scratch_train_test_split(X,y,train_size=0.8,random_state=0):\n",
        "    np.random.seed(random_state)\n",
        "    y = y.reshape(-1,1)\n",
        "    Xy = np.concatenate([X,y],axis=1)\n",
        "    size = len(Xy)\n",
        "    pick = int(np.round(size*train_size))\n",
        "    train_pick = np.random.choice(np.arange(size),pick,replace=False)\n",
        "    test_pick = np.delete(np.arange(size),train_pick)\n",
        "    train = Xy[train_pick,:]\n",
        "    test = Xy[test_pick,:]\n",
        "    X_train = train[:,0:(Xy.shape[1]-y.shape[1])].reshape(-1,X.shape[1])\n",
        "    y_train = train[:,-y.shape[1]].reshape(-1,)\n",
        "    X_test = test[:,0:(Xy.shape[1]-y.shape[1])].reshape(-1,X.shape[1])\n",
        "    y_test = test[:,-y.shape[1]].reshape(-1,)\n",
        "    return X_train, X_test, y_train, y_test"
      ]
    },
    {
      "cell_type": "code",
      "source": [
        "import numpy as np\n",
        "y = np.array([[1, 2, 3, 4, 5], [6, 7, 8, 9, 10]])\n",
        "y"
      ],
      "metadata": {
        "colab": {
          "base_uri": "https://localhost:8080/"
        },
        "id": "pFuKyFGepVR6",
        "outputId": "18d4774c-bf90-4036-c473-e39325ac6b4c"
      },
      "execution_count": 12,
      "outputs": [
        {
          "output_type": "execute_result",
          "data": {
            "text/plain": [
              "array([[ 1,  2,  3,  4,  5],\n",
              "       [ 6,  7,  8,  9, 10]])"
            ]
          },
          "metadata": {},
          "execution_count": 12
        }
      ]
    },
    {
      "cell_type": "code",
      "source": [
        "print(len(y))"
      ],
      "metadata": {
        "colab": {
          "base_uri": "https://localhost:8080/"
        },
        "id": "k5OLMQpRqWZ0",
        "outputId": "2c030ee7-f8ee-49f0-c59b-1ff4b93b1bf4"
      },
      "execution_count": 13,
      "outputs": [
        {
          "output_type": "stream",
          "name": "stdout",
          "text": [
            "2\n"
          ]
        }
      ]
    },
    {
      "cell_type": "code",
      "source": [
        "y = y.reshape(-1,1)\n",
        "size =len(y)\n",
        "size"
      ],
      "metadata": {
        "colab": {
          "base_uri": "https://localhost:8080/"
        },
        "id": "AmqDqtZYpZjy",
        "outputId": "f3a4953e-03e0-4772-ab77-2be77bee7862"
      },
      "execution_count": 11,
      "outputs": [
        {
          "output_type": "execute_result",
          "data": {
            "text/plain": [
              "10"
            ]
          },
          "metadata": {},
          "execution_count": 11
        }
      ]
    },
    {
      "cell_type": "markdown",
      "source": [
        "Line 1: Function definition.\n",
        "2nd line: Fixed random number\n",
        "3rd line: Transform shape of y\n",
        "4th line: Combine X and y 5th\n",
        "line : Get data length\n",
        "Line 6: Get training data index randomly\n",
        "Line 7: Get test data index randomly\n",
        "Lines 8 to 9: Split into training data and test data\n",
        "Lines 10 to 13 : Divide the training data and test data into the objective variable and explanatory variable, respectively.\n",
        "Line 14: Return as a return value"
      ],
      "metadata": {
        "id": "uacvEv6LpIWL"
      }
    },
    {
      "cell_type": "code",
      "source": [
        "import numpy as np\n",
        "from sklearn.datasets import load_iris\n",
        "data = load_iris()\n",
        "X = data.data\n",
        "y = data.target\n",
        "X_train, X_test, y_train, y_test = scratch_train_test_split(X, y)\n",
        "print(f'X', X.shape)\n",
        "print(f'y', y.shape)\n",
        "print(f'X_train', X_train.shape)\n",
        "print(f'X_test', X_test.shape)\n",
        "print(f'y_train', y_train.shape)\n",
        "print(f'y_test', y_test.shape)"
      ],
      "metadata": {
        "colab": {
          "base_uri": "https://localhost:8080/"
        },
        "id": "4w414-G2raNq",
        "outputId": "6f1e01a5-df94-4f8c-89b5-858010b519eb"
      },
      "execution_count": 14,
      "outputs": [
        {
          "output_type": "stream",
          "name": "stdout",
          "text": [
            "X (150, 4)\n",
            "y (150,)\n",
            "X_train (120, 4)\n",
            "X_test (30, 4)\n",
            "y_train (120,)\n",
            "y_test (30,)\n"
          ]
        }
      ]
    },
    {
      "cell_type": "markdown",
      "source": [
        "Line 1: Import Numpy Line\n",
        "2: Introduce iris data\n",
        "Line 3: Assign iris data to variable data\n",
        "Line 4: Assign feature value to variable X\n",
        "Line 5: Assign target variable to variable y\n",
        "Line 6 th: Execute the scratch_train_test_split function implemented from scratch\n",
        "Lines 7 to 12: Check the number of rows and columns before and after splitting"
      ],
      "metadata": {
        "id": "I4Q-Wrl-rmfT"
      }
    }
  ]
}