{
  "nbformat": 4,
  "nbformat_minor": 0,
  "metadata": {
    "colab": {
      "provenance": [],
      "toc_visible": true,
      "authorship_tag": "ABX9TyO4/6j1nAqDSTv6QLJiaXE5",
      "include_colab_link": true
    },
    "kernelspec": {
      "name": "python3",
      "display_name": "Python 3"
    },
    "language_info": {
      "name": "python"
    }
  },
  "cells": [
    {
      "cell_type": "markdown",
      "metadata": {
        "id": "view-in-github",
        "colab_type": "text"
      },
      "source": [
        "<a href=\"https://colab.research.google.com/github/Dashnyam7/Scratch/blob/main/Clustering.ipynb\" target=\"_parent\"><img src=\"https://colab.research.google.com/assets/colab-badge.svg\" alt=\"Open In Colab\"/></a>"
      ]
    },
    {
      "cell_type": "markdown",
      "source": [
        "# What is clustering?"
      ],
      "metadata": {
        "id": "6JNKZAS6GOal"
      }
    },
    {
      "cell_type": "markdown",
      "source": [
        "Clustering is a type of unsupervised learning that classifies data according to specific tendencies according to specific division criteria using only explanatory variables. The algorithm we have learned so far is an algorithm called supervised learning that creates a model in which the explanatory variables can explain the target variable. Clustering does not require a target variable, and classifies data into multiple classes using only explanatory variables.\n",
        "\n",
        "Then, we will implement the clustering algorithm from here, but we will understand the detailed calculation method etc. as we implement it."
      ],
      "metadata": {
        "id": "sDamQ_9dGRVN"
      }
    },
    {
      "cell_type": "markdown",
      "source": [
        "# Center point of k-means"
      ],
      "metadata": {
        "id": "syO7HftkGbRd"
      }
    },
    {
      "cell_type": "markdown",
      "source": [
        "The center of a cluster (center point or centroid) is the mean value of all points (elements) belonging to that cluster.\n",
        "\n",
        "Below, we first initialize it randomly."
      ],
      "metadata": {
        "id": "h4K7lWaGGip9"
      }
    },
    {
      "cell_type": "code",
      "source": [
        "from sklearn.datasets import make_blobs  \n",
        "X, _ = make_blobs(n_samples=100, n_features=2, centers=4, cluster_std=0.5, shuffle=True, random_state=0)"
      ],
      "metadata": {
        "id": "dK2GRUuEGpyO"
      },
      "execution_count": 1,
      "outputs": []
    },
    {
      "cell_type": "code",
      "execution_count": 2,
      "metadata": {
        "id": "Vx44xMElGJeY",
        "colab": {
          "base_uri": "https://localhost:8080/",
          "height": 183
        },
        "outputId": "245d3986-15ca-44b6-896c-aab132426893"
      },
      "outputs": [
        {
          "output_type": "error",
          "ename": "NameError",
          "evalue": "ignored",
          "traceback": [
            "\u001b[0;31m---------------------------------------------------------------------------\u001b[0m",
            "\u001b[0;31mNameError\u001b[0m                                 Traceback (most recent call last)",
            "\u001b[0;32m<ipython-input-2-4dcc928b2b95>\u001b[0m in \u001b[0;36m<module>\u001b[0;34m\u001b[0m\n\u001b[1;32m      1\u001b[0m \u001b[0;32mimport\u001b[0m \u001b[0mnumpy\u001b[0m \u001b[0;32mas\u001b[0m \u001b[0mnp\u001b[0m\u001b[0;34m\u001b[0m\u001b[0;34m\u001b[0m\u001b[0m\n\u001b[0;32m----> 2\u001b[0;31m \u001b[0mself\u001b[0m\u001b[0;34m.\u001b[0m\u001b[0mmyu\u001b[0m \u001b[0;34m=\u001b[0m \u001b[0mX\u001b[0m\u001b[0;34m[\u001b[0m\u001b[0mnp\u001b[0m\u001b[0;34m.\u001b[0m\u001b[0mrandom\u001b[0m\u001b[0;34m.\u001b[0m\u001b[0mchoice\u001b[0m\u001b[0;34m(\u001b[0m\u001b[0mlen\u001b[0m\u001b[0;34m(\u001b[0m\u001b[0mX\u001b[0m\u001b[0;34m)\u001b[0m\u001b[0;34m,\u001b[0m\u001b[0msize\u001b[0m\u001b[0;34m=\u001b[0m\u001b[0mself\u001b[0m\u001b[0;34m.\u001b[0m\u001b[0mn_clusters\u001b[0m\u001b[0;34m,\u001b[0m\u001b[0mreplace\u001b[0m\u001b[0;34m=\u001b[0m\u001b[0;32mFalse\u001b[0m\u001b[0;34m)\u001b[0m\u001b[0;34m]\u001b[0m\u001b[0;34m\u001b[0m\u001b[0;34m\u001b[0m\u001b[0m\n\u001b[0m",
            "\u001b[0;31mNameError\u001b[0m: name 'self' is not defined"
          ]
        }
      ],
      "source": [
        "import numpy as np\n",
        "self.myu = X[np.random.choice(len(X),size=self.n_clusters,replace=False)]"
      ]
    },
    {
      "cell_type": "markdown",
      "source": [
        "n_clustersis a hyperparameter for how many classes you want to classify into. After this, we will incorporate this processing into the class. At this point, I'm just going to excerpt it and leave it to the introduction."
      ],
      "metadata": {
        "id": "T2oFWu0WGl32"
      }
    },
    {
      "cell_type": "markdown",
      "source": [
        "# SSE of k-means"
      ],
      "metadata": {
        "id": "DfH2YczgGyoO"
      }
    },
    {
      "cell_type": "markdown",
      "source": [
        "SSE (Sum of Squared Errors) is a statistical technique used to measure the sum of differences between:\n",
        "The following formula can be defined from the actual value of the achieved value.\n",
        "\n",
        "$\\sum_{i=1}^{n} d^{2}$\n",
        "\n",
        "where d is the distance between the data and the cluster center.\n",
        "Sum of squared errors (SSE) is a formula used to measure the difference between obtained data.\n",
        "Traditionally, SSE with predictive models is often used as a research reference to determine optimal clusters."
      ],
      "metadata": {
        "id": "XxAHjNVYHCQY"
      }
    },
    {
      "cell_type": "code",
      "source": [
        "def calc_sse(self,X):\n",
        "        sse = 0\n",
        "        for i in range(len(X)):\n",
        "            for j in range(self.n_clusters):\n",
        "                if j == X[i,-1]:\n",
        "                    sse += np.sum((X[i,:-1]-self.myu[j])**2)\n",
        "        if self.best_sse > sse:\n",
        "            self.best_sse = sse\n",
        "            self.record_myu = self.myu\n",
        "            self.record_cluster = self.n_clusters"
      ],
      "metadata": {
        "id": "5uJiUW7xHLqx"
      },
      "execution_count": null,
      "outputs": []
    },
    {
      "cell_type": "markdown",
      "source": [
        "Line 1: Function definition.\n",
        "\n",
        "Line 2: initial value of SSE as an argument\n",
        "\n",
        "Line 3: Loop with the number of data\n",
        "\n",
        "Line 4: Loop with the number of clusters\n",
        "\n",
        "Line 5: Determine the last cluster and add it to the SSE if it is\n",
        "\n",
        "Lines 6: Calculate the distance (norm) of the vector * Note that the numerical values ​​​​excluding the last cluster are used\n",
        "\n",
        "Line 7: If the SSE is improved, update it\n",
        "\n",
        "Line 8: Record the best SSE\n",
        "\n",
        "Line 9: Record the best SSE myu\n",
        "\n",
        "Line 10: Record the number of clusters"
      ],
      "metadata": {
        "id": "80WjeoSdHIG9"
      }
    },
    {
      "cell_type": "markdown",
      "source": [
        "# Cluster of k-means"
      ],
      "metadata": {
        "id": "DVt3aWL6Hdz5"
      }
    },
    {
      "cell_type": "markdown",
      "source": [
        "A cluster is a collection of data points aggregated by some kind of similarity.\n",
        "\n",
        "The process of assigning a data point to a cluster is straightforward. It looks at all the clusters and then calculates the distance to the center point of the corresponding cluster. If the distance is smaller (closer) than the previous one, then it corresponds to the new close cluster. Each cluster will have a center point that is the average of the values ​​within that cluster. The final step is to repeat this process."
      ],
      "metadata": {
        "id": "dva1zQ-0Hxqe"
      }
    },
    {
      "cell_type": "code",
      "source": [
        "def _update_cluster(self,X):\n",
        "        for i in range(len(X)):\n",
        "            dist_m = 10**20\n",
        "            for j in range(self.n_clusters):\n",
        "                dist = np.sqrt(np.sum((X[i,:-1]-self.myu[j])**2))\n",
        "                if dist < dist_m:\n",
        "                    dist_m = dist\n",
        "                    X[i,-1] = j"
      ],
      "metadata": {
        "id": "Jin6hLAGH4-e"
      },
      "execution_count": null,
      "outputs": []
    },
    {
      "cell_type": "markdown",
      "source": [
        "Line 1: Function definition. Receive explanatory variable X as an argument\n",
        "\n",
        "Line 2: Loop with the number of data Line\n",
        "\n",
        "Line 3: Define the initial value for comparison Line\n",
        "\n",
        "Line 4: Loop with the number of clusters\n",
        "\n",
        "Line 5: Calculate the distance to the center point of the corresponding cluster\n",
        "\n",
        "Line 6: If the distance is smaller than the previously saved (or initial value), adopt that cluster\n",
        "\n",
        "Line 7: Update the value of dist_m\n",
        "\n",
        "Line 8: Update the last cluster"
      ],
      "metadata": {
        "id": "7b5x1QrxJO9d"
      }
    },
    {
      "cell_type": "code",
      "source": [
        "def _update_myu(self,X):\n",
        "        for j in range(self.n_clusters):\n",
        "            self.myu[j] = np.mean(X[X[:,-1]==j,:-1],axis=0)"
      ],
      "metadata": {
        "id": "AIXWjszoJVxO"
      },
      "execution_count": null,
      "outputs": []
    },
    {
      "cell_type": "markdown",
      "source": [
        "Line 1: Function definition. As an argument, the explanatory variable X is received\n",
        "\n",
        "Line 2: Loop with the number of clusters \n",
        "\n",
        "Line 3: The average value of the explanatory variable values ​​corresponding to the clusters in the loop is set as the new center point"
      ],
      "metadata": {
        "id": "UIU5TvFsJfWd"
      }
    },
    {
      "cell_type": "code",
      "source": [
        "def fit(self, X):\n",
        "    for i in range(self.n_init):\n",
        "        self.myu = X[np.random.choice(len(X),size=self.n_clusters,replace=False)]\n",
        "        cluster = np.zeros(len(X))\n",
        "        X_cluster = np.concatenate([X,cluster.reshape(-1,1)],axis=1)\n",
        "        for j in range(self.n_iter):\n",
        "            self.calc_sse(X_cluster)\n",
        "            self._update_cluster(X_cluster)\n",
        "            self._update_myu(X_cluster)\n",
        "            if self.verbose:\n",
        "                print(\"Initialization: %s Learning times: %s Best SSE: %s\"%(i,j,self.best_sse))"
      ],
      "metadata": {
        "id": "Rh54ZxIvJjO1"
      },
      "execution_count": null,
      "outputs": []
    },
    {
      "cell_type": "markdown",
      "source": [
        "Line 1: Function definition. \n",
        "\n",
        "Line 2: that receives explanatory variable X as an argument\n",
        "Loop for the number of initializations\n",
        "\n",
        "Line 3: Implemented in Problem 1. Randomly get initial values ​​for the number of clusters from data X (initial center point of each cluster)\n",
        "\n",
        "Line 4 and 5: Add cluster columns to X vector (clusters are initialized with 0)\n",
        "\n",
        "Line 6: Maximum Loop for learning times\n",
        "\n",
        "Line 7: Update SSE Line\n",
        "\n",
        "Line 8: Update cluster\n",
        "\n",
        "Line 9: Update center point of cluster\n",
        "\n",
        "Lines 10 to 11: Output of learning status"
      ],
      "metadata": {
        "id": "2Ejx0c1cJtTW"
      }
    },
    {
      "cell_type": "markdown",
      "source": [
        "# Learning and Estimating"
      ],
      "metadata": {
        "id": "4kBx42MZJ-3Q"
      }
    },
    {
      "cell_type": "code",
      "source": [
        "class ScratchKMeans():\n",
        "    def __init__(self,max_iter, n_clusters=2,n_init=20,n_iter=100,verbose=False):\n",
        "        self.n_clusters = n_clusters\n",
        "        self.n_init = n_init\n",
        "        self.n_iter = n_iter\n",
        "        self.verbose = verbose\n",
        "        self.best_sse = 10**20"
      ],
      "metadata": {
        "id": "M10jyX3_KXxP"
      },
      "execution_count": null,
      "outputs": []
    },
    {
      "cell_type": "code",
      "source": [
        "def predict(self, X):\n",
        "    y_pred = np.zeros(len(X))\n",
        "    for i in range(len(X)):\n",
        "        dist_m = 10**20\n",
        "        for j in range(self.record_cluster):\n",
        "            dist = np.sqrt(np.sum((X[i]-self.record_myu[j])**2))\n",
        "            if dist < dist_m:\n",
        "                dist_m = dist\n",
        "                y_pred[i] = j\n",
        "    return y_pred"
      ],
      "metadata": {
        "id": "QlF-wqY8KaVH"
      },
      "execution_count": null,
      "outputs": []
    },
    {
      "cell_type": "markdown",
      "source": [
        "Line 1: Function definition. Receives explanatory variable X as an argument\n",
        "\n",
        "Line 2: Initialization of predicted values\n",
        "\n",
        "​​Line 3: Loop with number of data\n",
        "\n",
        "Line 4: Initial value for comparison\n",
        "\n",
        "Line 5: Loop with number of clusters\n",
        "\n",
        "Line 6: Relevant cluster Calculate the distance to the center point\n",
        "\n",
        "Line 7: If the distance is smaller than the previously saved (or initial value), adopt that cluster\n",
        "\n",
        "Line 8: Update dist_m Line\n",
        "\n",
        "Line 9: Update predicted value\n",
        "\n",
        "Line 10: Prediction return a value"
      ],
      "metadata": {
        "id": "gJZqtQjlKe6X"
      }
    },
    {
      "cell_type": "code",
      "source": [
        "import numpy as np\n",
        "import pandas as pd\n",
        "import matplotlib.pyplot as plt\n",
        "from sklearn.datasets import make_blobs\n",
        "from sklearn.model_selection import train_test_split\n",
        "from sklearn.decomposition import PCA"
      ],
      "metadata": {
        "id": "OPBc8HVDK52v"
      },
      "execution_count": null,
      "outputs": []
    },
    {
      "cell_type": "code",
      "source": [
        "X_train, X_valid = \\\n",
        "train_test_split(X,train_size=0.8,random_state=None)"
      ],
      "metadata": {
        "id": "qfq50qaPK-eG"
      },
      "execution_count": null,
      "outputs": []
    },
    {
      "cell_type": "code",
      "source": [
        "clf = ScratchKMeans(n_clusters=4,n_init=5,n_iter=100,verbose=True)\n",
        "clf.fit(X_train)"
      ],
      "metadata": {
        "id": "OLfEEqBXLCEt"
      },
      "execution_count": null,
      "outputs": []
    },
    {
      "cell_type": "code",
      "source": [
        "pred = clf.predict(X_valid)"
      ],
      "metadata": {
        "id": "_vErBECnLEud"
      },
      "execution_count": null,
      "outputs": []
    },
    {
      "cell_type": "markdown",
      "source": [
        "# Elbow method"
      ],
      "metadata": {
        "id": "1JtqytlFLRKG"
      }
    },
    {
      "cell_type": "markdown",
      "source": [
        "The elbow method is a technique for determining the optimal number of clusters.\n",
        "It is used in the following ways to generate optimal cluster number information.\n",
        "Look at the comparative percentage of the number of clusters that form an elbow at a point."
      ],
      "metadata": {
        "id": "gTeC-tY0LTdG"
      }
    },
    {
      "cell_type": "code",
      "source": [
        "elbow = {}\n",
        "for k in range(1,8):\n",
        "    model = ScratchKMeans(n_clusters=k,n_init=5,n_iter=100,verbose=False)\n",
        "    model.fit(X)\n",
        "    elbow[k] = model.best_sse\n",
        "fig = plt.subplots(figsize=(12,8))\n",
        "plt.rcParams[\"font.size\"] = 20\n",
        "plt.plot(list(elbow.keys()),list(elbow.values()),'rs--');"
      ],
      "metadata": {
        "id": "MayALaYdLWAW"
      },
      "execution_count": null,
      "outputs": []
    },
    {
      "cell_type": "markdown",
      "source": [
        "Line 1: Define SSE storage variable for each number of clusters\n",
        "\n",
        "Line 2: Loop with arbitrary number of clusters\n",
        "\n",
        "Line 3: Instantiate scratch class\n",
        "\n",
        "Line 4: Execute learning Line\n",
        "\n",
        "Line 5: Variable for SSE storage Store SSE\n",
        "\n",
        "Lines 6 to 8: Draw cluster count and SSE"
      ],
      "metadata": {
        "id": "cuHrCCbtLY2-"
      }
    },
    {
      "cell_type": "markdown",
      "source": [
        "![image.png](data:image/png;base64,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)"
      ],
      "metadata": {
        "id": "qI_Xi6eSLc3u"
      }
    },
    {
      "cell_type": "markdown",
      "source": [
        "In the case of the graph above, the optimal number of clusters is 4.\n",
        "The reason is that the decrease in SSE (sum of squared residuals) leveled off after 4 clusters. This means that the clustering results will have less error.\n",
        "In addition, the name of the elbow method comes from the fact that the optimal number of clusters is the area that hits the elbow when the arm is bent."
      ],
      "metadata": {
        "id": "SnbXZXlnLf6Q"
      }
    },
    {
      "cell_type": "markdown",
      "source": [
        "# Test and Verification"
      ],
      "metadata": {
        "id": "1cT2R0aDLji5"
      }
    },
    {
      "cell_type": "code",
      "source": [
        "import numpy as np\n",
        "import pandas as pd\n",
        "import matplotlib.pyplot as plt\n",
        "from sklearn.datasets import make_blobs\n",
        "from sklearn.model_selection import train_test_split\n",
        "from sklearn.decomposition import PCA"
      ],
      "metadata": {
        "id": "MsCyuDoGLxXm"
      },
      "execution_count": null,
      "outputs": []
    },
    {
      "cell_type": "code",
      "source": [
        "class ScratchKMeans():\n",
        "    \"\"\"\n",
        "    Scratch implementation of K-means\n",
        "\n",
        "    Parameters\n",
        "    ----------\n",
        "    n_clusters : int\n",
        "      number of clusters\n",
        "    n_init : int\n",
        "      how many times to change the initial value of the center point\n",
        "    max_iter : int\n",
        "      Maximum number of iterations per calculation\n",
        "    tol : float\n",
        "      center point and centroid tolerance to stop the iteration\n",
        "    verbose : bool\n",
        "      True to print the learning process\n",
        "    \"\"\"\n",
        "    def __init__(self, n_clusters=2,n_init=20,n_iter=100,verbose=False):\n",
        "        # Record hyperparameters as attributes\n",
        "        self.n_clusters = n_clusters\n",
        "        self.n_init = n_init\n",
        "        self.n_iter = n_iter\n",
        "        self.verbose = verbose\n",
        "        self.best_sse = 10**20\n",
        "\n",
        "    def calc_sse(self,X):\n",
        "            sse = 0\n",
        "            for i in range(len(X)):\n",
        "                for j in range(self.n_clusters):\n",
        "                    if j == X[i,-1]:\n",
        "                        sse += np.sum((X[i,:-1]-self.myu[j])**2)\n",
        "            if self.best_sse > sse:\n",
        "                self.best_sse = sse\n",
        "                self.record_myu = self.myu\n",
        "                self.record_cluster = self.n_clusters\n",
        "\n",
        "    def _update_cluster(self,X):\n",
        "            for i in range(len(X)):\n",
        "                dist_m = 10**20\n",
        "                for j in range(self.n_clusters):\n",
        "                    dist = np.sqrt(np.sum((X[i,:-1]-self.myu[j])**2))\n",
        "                    if dist < dist_m:\n",
        "                        dist_m = dist\n",
        "                        X[i,-1] = j          \n",
        "\n",
        "    def _update_myu(self,X):\n",
        "            for j in range(self.n_clusters):\n",
        "                self.myu[j] = np.mean(X[X[:,-1]==j,:-1],axis=0)    \n",
        "\n",
        "\n",
        "\n",
        "    def fit(self, X):\n",
        "        \"\"\"\n",
        "        Calculate clustering by K-means\n",
        "        Parameters\n",
        "        ----------\n",
        "        X : ndarray, shape (n_samples, n_features)\n",
        "            Features of training data\n",
        "        \"\"\"\n",
        "        for i in range(self.n_init):\n",
        "            self.myu = X[np.random.choice(len(X),size=self.n_clusters,replace=False)]\n",
        "            cluster = np.zeros(len(X))\n",
        "            X_cluster = np.concatenate([X,cluster.reshape(-1,1)],axis=1)\n",
        "            for j in range(self.n_iter):\n",
        "                self.calc_sse(X_cluster)\n",
        "                self._update_cluster(X_cluster)\n",
        "                self._update_myu(X_cluster)\n",
        "                if self.verbose:\n",
        "                    print(\"Initialization: %s Learning times: %s Best SSE: %s\"%(i,j,self.best_sse))\n",
        "\n",
        "    def predict(self, X):\n",
        "        \"\"\"\n",
        "        Calculate which cluster the input data belongs to\n",
        "        \"\"\"\n",
        "        y_pred = np.zeros(len(X))\n",
        "        for i in range(len(X)):\n",
        "            dist_m = 10**20\n",
        "            for j in range(self.record_cluster):\n",
        "                dist = np.sqrt(np.sum((X[i]-self.record_myu[j])**2))\n",
        "                if dist < dist_m:\n",
        "                    dist_m = dist\n",
        "                    y_pred[i] = j\n",
        "        return y_pred"
      ],
      "metadata": {
        "id": "kRuKzqBuLz32"
      },
      "execution_count": 3,
      "outputs": []
    },
    {
      "cell_type": "code",
      "source": [
        "import pandas as pd\n",
        "import matplotlib.pyplot as plt\n",
        "data = pd.read_csv('Wholesale customers data.csv')\n",
        "X = data[['Fresh', 'Milk', 'Grocery', 'Frozen','Detergents_Paper', 'Delicassen']].values"
      ],
      "metadata": {
        "id": "CBKzwQ7ooQWb"
      },
      "execution_count": 8,
      "outputs": []
    },
    {
      "cell_type": "code",
      "source": [
        "elbow = {}\n",
        "for k in range(1,8):\n",
        "    model = ScratchKMeans(n_clusters=k,n_init=5,n_iter=100,verbose=False)\n",
        "    model.fit(X)\n",
        "    elbow[k] = model.best_sse\n",
        "fig = plt.subplots(figsize=(12,8))\n",
        "plt.rcParams[\"font.size\"] = 20\n",
        "plt.plot(list(elbow.keys()),list(elbow.values()),'rs--');"
      ],
      "metadata": {
        "colab": {
          "base_uri": "https://localhost:8080/",
          "height": 494
        },
        "id": "ZiXLEc__MkZ_",
        "outputId": "0901a34b-88c0-4d9f-8738-1946d43ba041"
      },
      "execution_count": 9,
      "outputs": [
        {
          "output_type": "display_data",
          "data": {
            "text/plain": [
              "<Figure size 864x576 with 1 Axes>"
            ],
            "image/png": "[encoded data removed]"
          },
          "metadata": {
            "needs_background": "light"
          }
        }
      ]
    },
    {
      "cell_type": "markdown",
      "source": [
        "Let's say that the purpose of this analysis is to \"analyze customer information, understand the characteristics of good customers and customers, and utilize them in the development of future measures.\" Then, if you divide into too many clusters, you will not have enough manpower and you will not be able to deploy beneficial measures.\n",
        "\n",
        "Therefore, we decide to perform the analysis with 4 clusters this time."
      ],
      "metadata": {
        "id": "ggPrVVxmpwGr"
      }
    },
    {
      "cell_type": "code",
      "source": [
        "clf = ScratchKMeans(n_clusters=4,n_init=5,n_iter=100,verbose=False)\n",
        "clf.fit(X)\n",
        "pred = clf.predict(X)\n",
        "summary_df = pd.DataFrame({'pred':pred,'Region':data['Region'],'Channel':data['Channel'],})"
      ],
      "metadata": {
        "id": "yJ1H-dL2qG9V"
      },
      "execution_count": 10,
      "outputs": []
    },
    {
      "cell_type": "markdown",
      "source": [
        "1st line: Instantiation with 4 clusters\n",
        "\n",
        "2nd line: Execution of learning\n",
        "\n",
        "3rd line: Calculation of predicted value\n",
        "\n",
        "4th line: To make calculation easier, create DF only for predicted value/Region/Channel"
      ],
      "metadata": {
        "id": "Bi3v4RMSqHYM"
      }
    },
    {
      "cell_type": "markdown",
      "source": [
        "Comparison with\n",
        "Region Let's output the predicted value/the number of data for each Region."
      ],
      "metadata": {
        "id": "Oab62rFyqbUj"
      }
    },
    {
      "cell_type": "code",
      "source": [
        "pd.pivot_table(summary_df, index='Region', columns='pred',values='Channel', aggfunc=len)"
      ],
      "metadata": {
        "colab": {
          "base_uri": "https://localhost:8080/",
          "height": 175
        },
        "id": "_BDOgQnKqLGU",
        "outputId": "019b7bd3-f4a2-4928-ca31-646e44e4a64c"
      },
      "execution_count": 11,
      "outputs": [
        {
          "output_type": "execute_result",
          "data": {
            "text/plain": [
              "pred    0.0  1.0  2.0  3.0\n",
              "Region                    \n",
              "1         2   16   10   49\n",
              "2         1   12    4   30\n",
              "3         8   67   44  197"
            ],
            "text/html": [
              "\n",
              "  <div id=\"df-6d34a29c-c387-403d-bc79-df07a1f8fa41\">\n",
              "    <div class=\"colab-df-container\">\n",
              "      <div>\n",
              "<style scoped>\n",
              "    .dataframe tbody tr th:only-of-type {\n",
              "        vertical-align: middle;\n",
              "    }\n",
              "\n",
              "    .dataframe tbody tr th {\n",
              "        vertical-align: top;\n",
              "    }\n",
              "\n",
              "    .dataframe thead th {\n",
              "        text-align: right;\n",
              "    }\n",
              "</style>\n",
              "<table border=\"1\" class=\"dataframe\">\n",
              "  <thead>\n",
              "    <tr style=\"text-align: right;\">\n",
              "      <th>pred</th>\n",
              "      <th>0.0</th>\n",
              "      <th>1.0</th>\n",
              "      <th>2.0</th>\n",
              "      <th>3.0</th>\n",
              "    </tr>\n",
              "    <tr>\n",
              "      <th>Region</th>\n",
              "      <th></th>\n",
              "      <th></th>\n",
              "      <th></th>\n",
              "      <th></th>\n",
              "    </tr>\n",
              "  </thead>\n",
              "  <tbody>\n",
              "    <tr>\n",
              "      <th>1</th>\n",
              "      <td>2</td>\n",
              "      <td>16</td>\n",
              "      <td>10</td>\n",
              "      <td>49</td>\n",
              "    </tr>\n",
              "    <tr>\n",
              "      <th>2</th>\n",
              "      <td>1</td>\n",
              "      <td>12</td>\n",
              "      <td>4</td>\n",
              "      <td>30</td>\n",
              "    </tr>\n",
              "    <tr>\n",
              "      <th>3</th>\n",
              "      <td>8</td>\n",
              "      <td>67</td>\n",
              "      <td>44</td>\n",
              "      <td>197</td>\n",
              "    </tr>\n",
              "  </tbody>\n",
              "</table>\n",
              "</div>\n",
              "      <button class=\"colab-df-convert\" onclick=\"convertToInteractive('df-6d34a29c-c387-403d-bc79-df07a1f8fa41')\"\n",
              "              title=\"Convert this dataframe to an interactive table.\"\n",
              "              style=\"display:none;\">\n",
              "        \n",
              "  <svg xmlns=\"http://www.w3.org/2000/svg\" height=\"24px\"viewBox=\"0 0 24 24\"\n",
              "       width=\"24px\">\n",
              "    <path d=\"M0 0h24v24H0V0z\" fill=\"none\"/>\n",
              "    <path d=\"M18.56 5.44l.94 2.06.94-2.06 2.06-.94-2.06-.94-.94-2.06-.94 2.06-2.06.94zm-11 1L8.5 8.5l.94-2.06 2.06-.94-2.06-.94L8.5 2.5l-.94 2.06-2.06.94zm10 10l.94 2.06.94-2.06 2.06-.94-2.06-.94-.94-2.06-.94 2.06-2.06.94z\"/><path d=\"M17.41 7.96l-1.37-1.37c-.4-.4-.92-.59-1.43-.59-.52 0-1.04.2-1.43.59L10.3 9.45l-7.72 7.72c-.78.78-.78 2.05 0 2.83L4 21.41c.39.39.9.59 1.41.59.51 0 1.02-.2 1.41-.59l7.78-7.78 2.81-2.81c.8-.78.8-2.07 0-2.86zM5.41 20L4 18.59l7.72-7.72 1.47 1.35L5.41 20z\"/>\n",
              "  </svg>\n",
              "      </button>\n",
              "      \n",
              "  <style>\n",
              "    .colab-df-container {\n",
              "      display:flex;\n",
              "      flex-wrap:wrap;\n",
              "      gap: 12px;\n",
              "    }\n",
              "\n",
              "    .colab-df-convert {\n",
              "      background-color: #E8F0FE;\n",
              "      border: none;\n",
              "      border-radius: 50%;\n",
              "      cursor: pointer;\n",
              "      display: none;\n",
              "      fill: #1967D2;\n",
              "      height: 32px;\n",
              "      padding: 0 0 0 0;\n",
              "      width: 32px;\n",
              "    }\n",
              "\n",
              "    .colab-df-convert:hover {\n",
              "      background-color: #E2EBFA;\n",
              "      box-shadow: 0px 1px 2px rgba(60, 64, 67, 0.3), 0px 1px 3px 1px rgba(60, 64, 67, 0.15);\n",
              "      fill: #174EA6;\n",
              "    }\n",
              "\n",
              "    [theme=dark] .colab-df-convert {\n",
              "      background-color: #3B4455;\n",
              "      fill: #D2E3FC;\n",
              "    }\n",
              "\n",
              "    [theme=dark] .colab-df-convert:hover {\n",
              "      background-color: #434B5C;\n",
              "      box-shadow: 0px 1px 3px 1px rgba(0, 0, 0, 0.15);\n",
              "      filter: drop-shadow(0px 1px 2px rgba(0, 0, 0, 0.3));\n",
              "      fill: #FFFFFF;\n",
              "    }\n",
              "  </style>\n",
              "\n",
              "      <script>\n",
              "        const buttonEl =\n",
              "          document.querySelector('#df-6d34a29c-c387-403d-bc79-df07a1f8fa41 button.colab-df-convert');\n",
              "        buttonEl.style.display =\n",
              "          google.colab.kernel.accessAllowed ? 'block' : 'none';\n",
              "\n",
              "        async function convertToInteractive(key) {\n",
              "          const element = document.querySelector('#df-6d34a29c-c387-403d-bc79-df07a1f8fa41');\n",
              "          const dataTable =\n",
              "            await google.colab.kernel.invokeFunction('convertToInteractive',\n",
              "                                                     [key], {});\n",
              "          if (!dataTable) return;\n",
              "\n",
              "          const docLinkHtml = 'Like what you see? Visit the ' +\n",
              "            '<a target=\"_blank\" href=https://colab.research.google.com/notebooks/data_table.ipynb>data table notebook</a>'\n",
              "            + ' to learn more about interactive tables.';\n",
              "          element.innerHTML = '';\n",
              "          dataTable['output_type'] = 'display_data';\n",
              "          await google.colab.output.renderOutput(dataTable, element);\n",
              "          const docLink = document.createElement('div');\n",
              "          docLink.innerHTML = docLinkHtml;\n",
              "          element.appendChild(docLink);\n",
              "        }\n",
              "      </script>\n",
              "    </div>\n",
              "  </div>\n",
              "  "
            ]
          },
          "metadata": {},
          "execution_count": 11
        }
      ]
    },
    {
      "cell_type": "markdown",
      "source": [
        "Considering this result Region==3, many are classified into cluster 3 (pred3.0), Regionbut it can be said that others do not seem to have much influence on cluster determination. It can be said that there is a difference in the trend of the data due to Regionthe difference from this."
      ],
      "metadata": {
        "id": "iqFnZrtIqdYU"
      }
    },
    {
      "cell_type": "markdown",
      "source": [
        "Comparison with\n",
        "Channel Let's output the predicted value/the number of data for each channel."
      ],
      "metadata": {
        "id": "dC02MltBqgWT"
      }
    },
    {
      "cell_type": "code",
      "source": [
        "pd.pivot_table(summary_df, index='Channel', columns='pred',values='Region', aggfunc=len)"
      ],
      "metadata": {
        "colab": {
          "base_uri": "https://localhost:8080/",
          "height": 143
        },
        "id": "Doh5dUo6qWRU",
        "outputId": "a957ffd9-f337-4a7b-925d-9a8fa5762d7f"
      },
      "execution_count": 12,
      "outputs": [
        {
          "output_type": "execute_result",
          "data": {
            "text/plain": [
              "pred     0.0  1.0  2.0  3.0\n",
              "Channel                    \n",
              "1          1   13   50  234\n",
              "2         10   82    8   42"
            ],
            "text/html": [
              "\n",
              "  <div id=\"df-38112776-f5a7-4894-813d-60dd699cae98\">\n",
              "    <div class=\"colab-df-container\">\n",
              "      <div>\n",
              "<style scoped>\n",
              "    .dataframe tbody tr th:only-of-type {\n",
              "        vertical-align: middle;\n",
              "    }\n",
              "\n",
              "    .dataframe tbody tr th {\n",
              "        vertical-align: top;\n",
              "    }\n",
              "\n",
              "    .dataframe thead th {\n",
              "        text-align: right;\n",
              "    }\n",
              "</style>\n",
              "<table border=\"1\" class=\"dataframe\">\n",
              "  <thead>\n",
              "    <tr style=\"text-align: right;\">\n",
              "      <th>pred</th>\n",
              "      <th>0.0</th>\n",
              "      <th>1.0</th>\n",
              "      <th>2.0</th>\n",
              "      <th>3.0</th>\n",
              "    </tr>\n",
              "    <tr>\n",
              "      <th>Channel</th>\n",
              "      <th></th>\n",
              "      <th></th>\n",
              "      <th></th>\n",
              "      <th></th>\n",
              "    </tr>\n",
              "  </thead>\n",
              "  <tbody>\n",
              "    <tr>\n",
              "      <th>1</th>\n",
              "      <td>1</td>\n",
              "      <td>13</td>\n",
              "      <td>50</td>\n",
              "      <td>234</td>\n",
              "    </tr>\n",
              "    <tr>\n",
              "      <th>2</th>\n",
              "      <td>10</td>\n",
              "      <td>82</td>\n",
              "      <td>8</td>\n",
              "      <td>42</td>\n",
              "    </tr>\n",
              "  </tbody>\n",
              "</table>\n",
              "</div>\n",
              "      <button class=\"colab-df-convert\" onclick=\"convertToInteractive('df-38112776-f5a7-4894-813d-60dd699cae98')\"\n",
              "              title=\"Convert this dataframe to an interactive table.\"\n",
              "              style=\"display:none;\">\n",
              "        \n",
              "  <svg xmlns=\"http://www.w3.org/2000/svg\" height=\"24px\"viewBox=\"0 0 24 24\"\n",
              "       width=\"24px\">\n",
              "    <path d=\"M0 0h24v24H0V0z\" fill=\"none\"/>\n",
              "    <path d=\"M18.56 5.44l.94 2.06.94-2.06 2.06-.94-2.06-.94-.94-2.06-.94 2.06-2.06.94zm-11 1L8.5 8.5l.94-2.06 2.06-.94-2.06-.94L8.5 2.5l-.94 2.06-2.06.94zm10 10l.94 2.06.94-2.06 2.06-.94-2.06-.94-.94-2.06-.94 2.06-2.06.94z\"/><path d=\"M17.41 7.96l-1.37-1.37c-.4-.4-.92-.59-1.43-.59-.52 0-1.04.2-1.43.59L10.3 9.45l-7.72 7.72c-.78.78-.78 2.05 0 2.83L4 21.41c.39.39.9.59 1.41.59.51 0 1.02-.2 1.41-.59l7.78-7.78 2.81-2.81c.8-.78.8-2.07 0-2.86zM5.41 20L4 18.59l7.72-7.72 1.47 1.35L5.41 20z\"/>\n",
              "  </svg>\n",
              "      </button>\n",
              "      \n",
              "  <style>\n",
              "    .colab-df-container {\n",
              "      display:flex;\n",
              "      flex-wrap:wrap;\n",
              "      gap: 12px;\n",
              "    }\n",
              "\n",
              "    .colab-df-convert {\n",
              "      background-color: #E8F0FE;\n",
              "      border: none;\n",
              "      border-radius: 50%;\n",
              "      cursor: pointer;\n",
              "      display: none;\n",
              "      fill: #1967D2;\n",
              "      height: 32px;\n",
              "      padding: 0 0 0 0;\n",
              "      width: 32px;\n",
              "    }\n",
              "\n",
              "    .colab-df-convert:hover {\n",
              "      background-color: #E2EBFA;\n",
              "      box-shadow: 0px 1px 2px rgba(60, 64, 67, 0.3), 0px 1px 3px 1px rgba(60, 64, 67, 0.15);\n",
              "      fill: #174EA6;\n",
              "    }\n",
              "\n",
              "    [theme=dark] .colab-df-convert {\n",
              "      background-color: #3B4455;\n",
              "      fill: #D2E3FC;\n",
              "    }\n",
              "\n",
              "    [theme=dark] .colab-df-convert:hover {\n",
              "      background-color: #434B5C;\n",
              "      box-shadow: 0px 1px 3px 1px rgba(0, 0, 0, 0.15);\n",
              "      filter: drop-shadow(0px 1px 2px rgba(0, 0, 0, 0.3));\n",
              "      fill: #FFFFFF;\n",
              "    }\n",
              "  </style>\n",
              "\n",
              "      <script>\n",
              "        const buttonEl =\n",
              "          document.querySelector('#df-38112776-f5a7-4894-813d-60dd699cae98 button.colab-df-convert');\n",
              "        buttonEl.style.display =\n",
              "          google.colab.kernel.accessAllowed ? 'block' : 'none';\n",
              "\n",
              "        async function convertToInteractive(key) {\n",
              "          const element = document.querySelector('#df-38112776-f5a7-4894-813d-60dd699cae98');\n",
              "          const dataTable =\n",
              "            await google.colab.kernel.invokeFunction('convertToInteractive',\n",
              "                                                     [key], {});\n",
              "          if (!dataTable) return;\n",
              "\n",
              "          const docLinkHtml = 'Like what you see? Visit the ' +\n",
              "            '<a target=\"_blank\" href=https://colab.research.google.com/notebooks/data_table.ipynb>data table notebook</a>'\n",
              "            + ' to learn more about interactive tables.';\n",
              "          element.innerHTML = '';\n",
              "          dataTable['output_type'] = 'display_data';\n",
              "          await google.colab.output.renderOutput(dataTable, element);\n",
              "          const docLink = document.createElement('div');\n",
              "          docLink.innerHTML = docLinkHtml;\n",
              "          element.appendChild(docLink);\n",
              "        }\n",
              "      </script>\n",
              "    </div>\n",
              "  </div>\n",
              "  "
            ]
          },
          "metadata": {},
          "execution_count": 12
        }
      ]
    },
    {
      "cell_type": "markdown",
      "source": [
        "Considering the results, it can be said that many Chnnel==1are classified into cluster 3 (pred3.0), and many are classified into Chnnel==2cluster 1 (pred2.0). From this, it Channelcan be said that there is a difference in the tendency of the data depending on the difference."
      ],
      "metadata": {
        "id": "iaHFJEEwqmZW"
      }
    },
    {
      "cell_type": "code",
      "source": [
        "data['cluster'] = pred"
      ],
      "metadata": {
        "id": "lmGKEwGprVhV"
      },
      "execution_count": 13,
      "outputs": []
    },
    {
      "cell_type": "code",
      "source": [
        "data.groupby('cluster').agg(['mean'])"
      ],
      "metadata": {
        "colab": {
          "base_uri": "https://localhost:8080/",
          "height": 238
        },
        "id": "XzZDYJJyqnJa",
        "outputId": "8746cbea-2b18-490e-bab4-035a54cabf45"
      },
      "execution_count": 14,
      "outputs": [
        {
          "output_type": "execute_result",
          "data": {
            "text/plain": [
              "          Channel    Region         Fresh          Milk       Grocery  \\\n",
              "             mean      mean          mean          mean          mean   \n",
              "cluster                                                                 \n",
              "0.0      1.909091  2.545455  19888.272727  36142.363636  45517.454545   \n",
              "1.0      1.863158  2.536842   4808.842105  10525.010526  16909.789474   \n",
              "2.0      1.137931  2.586207  36144.482759   5471.465517   6128.793103   \n",
              "3.0      1.152174  2.536232   9087.463768   3027.427536   3753.514493   \n",
              "\n",
              "              Frozen Detergents_Paper   Delicassen  \n",
              "                mean             mean         mean  \n",
              "cluster                                             \n",
              "0.0      6328.909091     21417.090909  8414.000000  \n",
              "1.0      1462.589474      7302.400000  1650.884211  \n",
              "2.0      6298.655172      1064.000000  2316.724138  \n",
              "3.0      2817.985507      1003.003623  1040.525362  "
            ],
            "text/html": [
              "\n",
              "  <div id=\"df-306ec88f-994a-4618-a85b-9c2c7c3fe778\">\n",
              "    <div class=\"colab-df-container\">\n",
              "      <div>\n",
              "<style scoped>\n",
              "    .dataframe tbody tr th:only-of-type {\n",
              "        vertical-align: middle;\n",
              "    }\n",
              "\n",
              "    .dataframe tbody tr th {\n",
              "        vertical-align: top;\n",
              "    }\n",
              "\n",
              "    .dataframe thead tr th {\n",
              "        text-align: left;\n",
              "    }\n",
              "\n",
              "    .dataframe thead tr:last-of-type th {\n",
              "        text-align: right;\n",
              "    }\n",
              "</style>\n",
              "<table border=\"1\" class=\"dataframe\">\n",
              "  <thead>\n",
              "    <tr>\n",
              "      <th></th>\n",
              "      <th>Channel</th>\n",
              "      <th>Region</th>\n",
              "      <th>Fresh</th>\n",
              "      <th>Milk</th>\n",
              "      <th>Grocery</th>\n",
              "      <th>Frozen</th>\n",
              "      <th>Detergents_Paper</th>\n",
              "      <th>Delicassen</th>\n",
              "    </tr>\n",
              "    <tr>\n",
              "      <th></th>\n",
              "      <th>mean</th>\n",
              "      <th>mean</th>\n",
              "      <th>mean</th>\n",
              "      <th>mean</th>\n",
              "      <th>mean</th>\n",
              "      <th>mean</th>\n",
              "      <th>mean</th>\n",
              "      <th>mean</th>\n",
              "    </tr>\n",
              "    <tr>\n",
              "      <th>cluster</th>\n",
              "      <th></th>\n",
              "      <th></th>\n",
              "      <th></th>\n",
              "      <th></th>\n",
              "      <th></th>\n",
              "      <th></th>\n",
              "      <th></th>\n",
              "      <th></th>\n",
              "    </tr>\n",
              "  </thead>\n",
              "  <tbody>\n",
              "    <tr>\n",
              "      <th>0.0</th>\n",
              "      <td>1.909091</td>\n",
              "      <td>2.545455</td>\n",
              "      <td>19888.272727</td>\n",
              "      <td>36142.363636</td>\n",
              "      <td>45517.454545</td>\n",
              "      <td>6328.909091</td>\n",
              "      <td>21417.090909</td>\n",
              "      <td>8414.000000</td>\n",
              "    </tr>\n",
              "    <tr>\n",
              "      <th>1.0</th>\n",
              "      <td>1.863158</td>\n",
              "      <td>2.536842</td>\n",
              "      <td>4808.842105</td>\n",
              "      <td>10525.010526</td>\n",
              "      <td>16909.789474</td>\n",
              "      <td>1462.589474</td>\n",
              "      <td>7302.400000</td>\n",
              "      <td>1650.884211</td>\n",
              "    </tr>\n",
              "    <tr>\n",
              "      <th>2.0</th>\n",
              "      <td>1.137931</td>\n",
              "      <td>2.586207</td>\n",
              "      <td>36144.482759</td>\n",
              "      <td>5471.465517</td>\n",
              "      <td>6128.793103</td>\n",
              "      <td>6298.655172</td>\n",
              "      <td>1064.000000</td>\n",
              "      <td>2316.724138</td>\n",
              "    </tr>\n",
              "    <tr>\n",
              "      <th>3.0</th>\n",
              "      <td>1.152174</td>\n",
              "      <td>2.536232</td>\n",
              "      <td>9087.463768</td>\n",
              "      <td>3027.427536</td>\n",
              "      <td>3753.514493</td>\n",
              "      <td>2817.985507</td>\n",
              "      <td>1003.003623</td>\n",
              "      <td>1040.525362</td>\n",
              "    </tr>\n",
              "  </tbody>\n",
              "</table>\n",
              "</div>\n",
              "      <button class=\"colab-df-convert\" onclick=\"convertToInteractive('df-306ec88f-994a-4618-a85b-9c2c7c3fe778')\"\n",
              "              title=\"Convert this dataframe to an interactive table.\"\n",
              "              style=\"display:none;\">\n",
              "        \n",
              "  <svg xmlns=\"http://www.w3.org/2000/svg\" height=\"24px\"viewBox=\"0 0 24 24\"\n",
              "       width=\"24px\">\n",
              "    <path d=\"M0 0h24v24H0V0z\" fill=\"none\"/>\n",
              "    <path d=\"M18.56 5.44l.94 2.06.94-2.06 2.06-.94-2.06-.94-.94-2.06-.94 2.06-2.06.94zm-11 1L8.5 8.5l.94-2.06 2.06-.94-2.06-.94L8.5 2.5l-.94 2.06-2.06.94zm10 10l.94 2.06.94-2.06 2.06-.94-2.06-.94-.94-2.06-.94 2.06-2.06.94z\"/><path d=\"M17.41 7.96l-1.37-1.37c-.4-.4-.92-.59-1.43-.59-.52 0-1.04.2-1.43.59L10.3 9.45l-7.72 7.72c-.78.78-.78 2.05 0 2.83L4 21.41c.39.39.9.59 1.41.59.51 0 1.02-.2 1.41-.59l7.78-7.78 2.81-2.81c.8-.78.8-2.07 0-2.86zM5.41 20L4 18.59l7.72-7.72 1.47 1.35L5.41 20z\"/>\n",
              "  </svg>\n",
              "      </button>\n",
              "      \n",
              "  <style>\n",
              "    .colab-df-container {\n",
              "      display:flex;\n",
              "      flex-wrap:wrap;\n",
              "      gap: 12px;\n",
              "    }\n",
              "\n",
              "    .colab-df-convert {\n",
              "      background-color: #E8F0FE;\n",
              "      border: none;\n",
              "      border-radius: 50%;\n",
              "      cursor: pointer;\n",
              "      display: none;\n",
              "      fill: #1967D2;\n",
              "      height: 32px;\n",
              "      padding: 0 0 0 0;\n",
              "      width: 32px;\n",
              "    }\n",
              "\n",
              "    .colab-df-convert:hover {\n",
              "      background-color: #E2EBFA;\n",
              "      box-shadow: 0px 1px 2px rgba(60, 64, 67, 0.3), 0px 1px 3px 1px rgba(60, 64, 67, 0.15);\n",
              "      fill: #174EA6;\n",
              "    }\n",
              "\n",
              "    [theme=dark] .colab-df-convert {\n",
              "      background-color: #3B4455;\n",
              "      fill: #D2E3FC;\n",
              "    }\n",
              "\n",
              "    [theme=dark] .colab-df-convert:hover {\n",
              "      background-color: #434B5C;\n",
              "      box-shadow: 0px 1px 3px 1px rgba(0, 0, 0, 0.15);\n",
              "      filter: drop-shadow(0px 1px 2px rgba(0, 0, 0, 0.3));\n",
              "      fill: #FFFFFF;\n",
              "    }\n",
              "  </style>\n",
              "\n",
              "      <script>\n",
              "        const buttonEl =\n",
              "          document.querySelector('#df-306ec88f-994a-4618-a85b-9c2c7c3fe778 button.colab-df-convert');\n",
              "        buttonEl.style.display =\n",
              "          google.colab.kernel.accessAllowed ? 'block' : 'none';\n",
              "\n",
              "        async function convertToInteractive(key) {\n",
              "          const element = document.querySelector('#df-306ec88f-994a-4618-a85b-9c2c7c3fe778');\n",
              "          const dataTable =\n",
              "            await google.colab.kernel.invokeFunction('convertToInteractive',\n",
              "                                                     [key], {});\n",
              "          if (!dataTable) return;\n",
              "\n",
              "          const docLinkHtml = 'Like what you see? Visit the ' +\n",
              "            '<a target=\"_blank\" href=https://colab.research.google.com/notebooks/data_table.ipynb>data table notebook</a>'\n",
              "            + ' to learn more about interactive tables.';\n",
              "          element.innerHTML = '';\n",
              "          dataTable['output_type'] = 'display_data';\n",
              "          await google.colab.output.renderOutput(dataTable, element);\n",
              "          const docLink = document.createElement('div');\n",
              "          docLink.innerHTML = docLinkHtml;\n",
              "          element.appendChild(docLink);\n",
              "        }\n",
              "      </script>\n",
              "    </div>\n",
              "  </div>\n",
              "  "
            ]
          },
          "metadata": {},
          "execution_count": 14
        }
      ]
    }
  ]
}