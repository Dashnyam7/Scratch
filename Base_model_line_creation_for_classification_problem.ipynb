{
  "nbformat": 4,
  "nbformat_minor": 0,
  "metadata": {
    "colab": {
      "provenance": [],
      "authorship_tag": "ABX9TyPyWxsA63aarnts3j0IVUDR",
      "include_colab_link": true
    },
    "kernelspec": {
      "name": "python3",
      "display_name": "Python 3"
    },
    "language_info": {
      "name": "python"
    }
  },
  "cells": [
    {
      "cell_type": "markdown",
      "metadata": {
        "id": "view-in-github",
        "colab_type": "text"
      },
      "source": [
        "<a href=\"https://colab.research.google.com/github/Dashnyam7/Scratch/blob/main/Base_model_line_creation_for_classification_problem.ipynb\" target=\"_parent\"><img src=\"https://colab.research.google.com/assets/colab-badge.svg\" alt=\"Open In Colab\"/></a>"
      ]
    },
    {
      "cell_type": "markdown",
      "source": [
        "# Classification"
      ],
      "metadata": {
        "id": "ga8dkjijraDN"
      }
    },
    {
      "cell_type": "markdown",
      "source": [
        "In supervised learning, a dataset consisting of both features and target variables (labels) is prepared.\n",
        "What I want to do is construct a model (estimator) that predicts object labels from features."
      ],
      "metadata": {
        "id": "d140SeODrvFt"
      }
    },
    {
      "cell_type": "markdown",
      "source": [
        "If the target variable is nominal (discrete) , treat it as a classification problem.\n",
        "\n",
        "example:\n",
        "\n",
        "Predict the type of iris from the measured value of the iris.\n",
        "\n",
        "Given a polychromatic image of an object through a telescope, determine whether the object is a star, a quasar, or a galaxy."
      ],
      "metadata": {
        "id": "vUOny32wsACl"
      }
    },
    {
      "cell_type": "markdown",
      "source": [
        "## Problem 2 Creating a code to solve the classification problem"
      ],
      "metadata": {
        "id": "FN8W5y5BsF5N"
      }
    },
    {
      "cell_type": "markdown",
      "source": [
        "### Acquisition of iris data (iris data) and creation of dataset"
      ],
      "metadata": {
        "id": "4BnU98ULtDQt"
      }
    },
    {
      "cell_type": "markdown",
      "source": [
        "Get the iris data and split it into training data and test data\n",
        "\n",
        "Generate a model (estimator) that solves the classification problem\n",
        "\n",
        "Predict and evaluate using prediction results and correct values"
      ],
      "metadata": {
        "id": "c2gIK9tZsHaV"
      }
    },
    {
      "cell_type": "code",
      "source": [
        "def scratch_train_test_split(X,y,train_size=0.8,random_state=0):\n",
        "    np.random.seed(random_state)\n",
        "    y = y.reshape(-1,1)\n",
        "    Xy = np.concatenate([X,y],axis=1)\n",
        "    size = len(Xy)\n",
        "    pick = int(np.round(size*train_size))\n",
        "    train_pick = np.random.choice(np.arange(size),pick,replace=False)\n",
        "    test_pick = np.delete(np.arange(size),train_pick)\n",
        "    train = Xy[train_pick,:]\n",
        "    test = Xy[test_pick,:]\n",
        "    X_train = train[:,0:(Xy.shape[1]-y.shape[1])].reshape(-1,X.shape[1])\n",
        "    y_train = train[:,-y.shape[1]].reshape(-1,)\n",
        "    X_test = test[:,0:(Xy.shape[1]-y.shape[1])].reshape(-1,X.shape[1])\n",
        "    y_test = test[:,-y.shape[1]].reshape(-1,)\n",
        "    return X_train, X_test, y_train, y_test"
      ],
      "metadata": {
        "id": "PuLB8HIgs1f-"
      },
      "execution_count": 3,
      "outputs": []
    },
    {
      "cell_type": "code",
      "execution_count": 4,
      "metadata": {
        "id": "qM9hLltArTSq"
      },
      "outputs": [],
      "source": [
        "import numpy as np\n",
        "import pandas as pd\n",
        "from sklearn.datasets import load_iris\n",
        "data = load_iris().data\n",
        "target = load_iris().target.reshape(-1,1)\n",
        "iris = np.concatenate([data,target],axis=1)\n",
        "iris = pd.DataFrame(iris)\n",
        "iris_X = iris.loc[iris[4]!=0,0:3].values\n",
        "iris_y = iris.loc[iris[4]!=0,4].values\n",
        "X = iris_X\n",
        "y = iris_y\n",
        "X_train, X_test, y_train, y_test = scratch_train_test_split(X,y,train_size=0.8,random_state=0)"
      ]
    },
    {
      "cell_type": "markdown",
      "source": [
        "### Generate various models (estimators) that solve classification problems"
      ],
      "metadata": {
        "id": "5bIRAPixtHE9"
      }
    },
    {
      "cell_type": "markdown",
      "source": [
        "logistic regression"
      ],
      "metadata": {
        "id": "dWDhS7bRtbqt"
      }
    },
    {
      "cell_type": "code",
      "source": [
        "from sklearn.linear_model import SGDClassifier\n",
        "clf = SGDClassifier(loss=\"log\")\n",
        "clf.fit(X_train,y_train)\n",
        "y_pred = clf.predict(X_test)\n",
        "y_pred"
      ],
      "metadata": {
        "colab": {
          "base_uri": "https://localhost:8080/"
        },
        "id": "zR_pqcYLtLFG",
        "outputId": "2d2962d1-1f32-40ae-8ba7-ea5acbe0b73d"
      },
      "execution_count": 7,
      "outputs": [
        {
          "output_type": "execute_result",
          "data": {
            "text/plain": [
              "array([1., 1., 1., 1., 1., 1., 1., 1., 1., 1., 2., 2., 2., 2., 2., 1., 1.,\n",
              "       2., 1., 2.])"
            ]
          },
          "metadata": {},
          "execution_count": 7
        }
      ]
    },
    {
      "cell_type": "markdown",
      "source": [
        "SVM"
      ],
      "metadata": {
        "id": "Nk7r4LtxtfLe"
      }
    },
    {
      "cell_type": "code",
      "source": [
        "from sklearn.svm import SVC\n",
        "clf = SVC(gamma='auto')\n",
        "clf.fit(X_train,y_train)\n",
        "y_pred = clf.predict(X_test)\n",
        "y_pred"
      ],
      "metadata": {
        "colab": {
          "base_uri": "https://localhost:8080/"
        },
        "id": "mMgMtxuutjpw",
        "outputId": "29457bb3-f83e-4407-ba43-2030970efcab"
      },
      "execution_count": 8,
      "outputs": [
        {
          "output_type": "execute_result",
          "data": {
            "text/plain": [
              "array([1., 1., 1., 1., 1., 1., 1., 1., 1., 1., 2., 2., 2., 2., 2., 2., 2.,\n",
              "       2., 2., 2.])"
            ]
          },
          "metadata": {},
          "execution_count": 8
        }
      ]
    },
    {
      "cell_type": "markdown",
      "source": [
        "Decision tree"
      ],
      "metadata": {
        "id": "OBt-reK7tpJO"
      }
    },
    {
      "cell_type": "code",
      "source": [
        "from sklearn.tree import DecisionTreeClassifier\n",
        "clf = DecisionTreeClassifier(random_state=0)\n",
        "clf.fit(X_train,y_train)\n",
        "y_pred = clf.predict(X_test)\n",
        "y_pred"
      ],
      "metadata": {
        "colab": {
          "base_uri": "https://localhost:8080/"
        },
        "id": "DSHGXCBOtsi1",
        "outputId": "d96203fa-35ca-4461-dc55-f7f7186a3f3e"
      },
      "execution_count": 10,
      "outputs": [
        {
          "output_type": "execute_result",
          "data": {
            "text/plain": [
              "array([1., 1., 1., 1., 1., 1., 1., 1., 1., 1., 2., 2., 2., 2., 2., 2., 1.,\n",
              "       2., 1., 2.])"
            ]
          },
          "metadata": {},
          "execution_count": 10
        }
      ]
    },
    {
      "cell_type": "markdown",
      "source": [
        "### Evalution"
      ],
      "metadata": {
        "id": "hFIbI8LFtx-l"
      }
    },
    {
      "cell_type": "code",
      "source": [
        "from sklearn.metrics import accuracy_score\n",
        "from sklearn.metrics import precision_score\n",
        "from sklearn.metrics import recall_score\n",
        "from sklearn.metrics import f1_score\n",
        "\n",
        "accuracy = accuracy_score(y_test, y_pred)\n",
        "precision = precision_score(y_test, y_pred)\n",
        "recall = recall_score(y_test, y_pred)\n",
        "f1 = f1_score(y_test, y_pred)"
      ],
      "metadata": {
        "id": "E8rhYktztwRO"
      },
      "execution_count": 11,
      "outputs": []
    },
    {
      "cell_type": "markdown",
      "source": [
        "# Regression"
      ],
      "metadata": {
        "id": "HBEZSQdYt7I2"
      }
    },
    {
      "cell_type": "markdown",
      "source": [
        "If the target variable is continuous , treat it as a regression problem.\n",
        "\n",
        "example:\n",
        "\n",
        "Determine the selling price of a house given a set of attributes"
      ],
      "metadata": {
        "id": "QqcwzCIV45q_"
      }
    },
    {
      "cell_type": "markdown",
      "source": [
        "## Creating code to solve problem 3 regression problem"
      ],
      "metadata": {
        "id": "ZElsmdmi40ro"
      }
    },
    {
      "cell_type": "code",
      "source": [
        "train = pd.read_csv('train.csv')\n",
        "X = train[['GrLivArea','YearBuilt']].values\n",
        "y = train[['SalePrice']].values\n",
        "X_train, X_test, y_train, y_test = scratch_train_test_split(X,y,train_size=0.8,random_state=0)"
      ],
      "metadata": {
        "id": "GFzy5L6l5FDH"
      },
      "execution_count": 12,
      "outputs": []
    },
    {
      "cell_type": "code",
      "source": [
        "from sklearn.preprocessing import StandardScaler\n",
        "scaler = StandardScaler()\n",
        "scaler.fit(X_train)\n",
        "X_train_std = scaler.transform(X_train)\n",
        "X_test_std = scaler.transform(X_test)"
      ],
      "metadata": {
        "id": "E96X4-Da5LDf"
      },
      "execution_count": 13,
      "outputs": []
    },
    {
      "cell_type": "code",
      "source": [
        "from sklearn.linear_model import SGDRegressor\n",
        "reg = SGDRegressor()\n",
        "reg.fit(X_train_std, y_train)\n",
        "y_pred = reg.predict(X_test_std)\n",
        "y_pred"
      ],
      "metadata": {
        "colab": {
          "base_uri": "https://localhost:8080/"
        },
        "id": "8rVWAzo45Qge",
        "outputId": "89cf412a-e570-4d78-8fc2-c68d6bf723b2"
      },
      "execution_count": 18,
      "outputs": [
        {
          "output_type": "execute_result",
          "data": {
            "text/plain": [
              "array([292825.46462064, 144055.06919054, 135711.83259842, 227021.28812361,\n",
              "       174876.05942282, 192701.21250746, 186338.93841133, 166296.8673638 ,\n",
              "       151456.23860476, 131572.13941114, 235145.05821013, 211503.41532057,\n",
              "       235124.91093085, 228700.08936923, 123549.20672072, 202691.32523642,\n",
              "       221184.65103938, 193849.31467144, 144821.37280114, 190655.09704179,\n",
              "       234033.59228674,  64554.00590459, 141797.85666906,  47931.73387586,\n",
              "       203779.93737668, 205362.612358  , 111375.15395146, 174818.57402707,\n",
              "       160631.98459096, 124626.39196943, 236492.47960043, 149109.61557874,\n",
              "       231970.63692183,  79776.78415495, 128969.76457687, 237336.06494813,\n",
              "       144046.34880282, 197827.02674887, 235145.05821013, 209939.23392851,\n",
              "       209902.59768792, 250340.62248351, 212688.15372514, 220107.46579068,\n",
              "       275984.07702424, 234488.6633213 , 165633.7567152 , 153377.00920117,\n",
              "       131119.42394248, 134540.87665131, 252737.31326964, 208514.17986318,\n",
              "       284351.82108952, 133038.18991093, 255564.21667925, 261286.58484784,\n",
              "       234852.31922336, 226353.46634321, 178919.62634579, 127432.44622387,\n",
              "       136627.03673728,  99603.39795281, 192655.85587914, 119898.8652427 ,\n",
              "       255891.23634072, 138822.75460708, 163637.35807171, 249411.98682512,\n",
              "       118097.07469372, 145347.71168892, 131812.45507191, 314521.12756477,\n",
              "        98030.1452351 , 200660.64591824, 250688.1403622 ,  96403.76731549,\n",
              "       140615.47383039, 225722.2808034 , 144354.87487502, 305097.9992201 ,\n",
              "        68114.93687807, 150150.16458685, 207331.7970245 ,  87246.51491855,\n",
              "       314218.96631439, 189577.20991721, 131995.28533691, 216967.32517707,\n",
              "       242344.90377008, 133013.33149984,  72920.09627984, 222735.40091191,\n",
              "       247335.24900275, 191759.84720542, 119571.84558123, 123814.73173051,\n",
              "       124544.04816258, 146394.9764568 ,  66497.98122206, 193616.06570838,\n",
              "       121504.39400714, 139524.15518629, 216226.23091549, 110416.59781225,\n",
              "       111862.15009481,  86612.97381284, 127240.5446332 , 218817.52979614,\n",
              "       155371.75415463, 100509.17982807, 293328.59878735, 130259.34963348,\n",
              "       200141.37372816, 194736.95389537, 253441.77129063, 163037.74670276,\n",
              "       203748.36320583, 143515.29878324,  99731.44932591, 211469.13464588,\n",
              "       232400.84954531, 120736.08576858, 151774.18694056, 222883.95050223,\n",
              "       131432.66114649, 171486.53182279, 151229.70540146, 197287.25634157,\n",
              "       181867.51443079, 240046.34387621,  45061.12752796, 127277.18087379,\n",
              "       146506.88980653,  99082.12113477,  70257.88048392, 183344.99182214,\n",
              "       128409.14501441, 192513.67111065, 216006.7644099 , 125209.51437708,\n",
              "       145784.64007216, 235895.22379737, 155703.4849479 ,  82725.02317789,\n",
              "       206581.63143726, 242774.76545561, 290412.63581114, 219249.74704757,\n",
              "       171212.28642528, 131370.81555687, 260954.85405457, 126403.32410732,\n",
              "       235117.84423314, 139846.81465389, 204822.8419507 , 144242.61058735,\n",
              "        93156.07354601, 211432.49840529, 342651.98614826, 127487.57605372,\n",
              "       127167.27215202, 137166.80714458, 163793.32529767, 117525.02823969,\n",
              "       116235.09224515, 108440.69738599, 117595.94515497, 197801.81739984,\n",
              "       203119.18229399, 218602.77442234, 152334.10462715, 285182.32585563,\n",
              "       117886.67951378, 132358.94123897, 233004.82110812, 106002.65922746,\n",
              "       128621.89576024, 210721.32462454, 228899.0576576 , 187464.18679219,\n",
              "       246290.33980078, 161796.22477831, 191724.86465486, 136539.6308607 ,\n",
              "       214058.07796062, 241206.22386969, 139044.22574064, 158477.61409355,\n",
              "       151286.83985927, 238392.75197961, 119924.07459172, 169983.84508241,\n",
              "       112502.40696028, 135510.50874414, 164073.93551701, 249375.35058453,\n",
              "       125717.35967559, 133868.34373911, 210892.72799798,  70870.9233724 ,\n",
              "       105545.232627  , 215933.49192872, 140798.3040954 , 181050.79212214,\n",
              "       113710.35008592, 226870.38296739, 104079.18212722, 193911.51119899,\n",
              "       277650.74950242, 167937.02774087, 196195.93769746, 277437.99875659,\n",
              "       209701.27383365, 183207.86912339, 277925.34583788, 182222.09900719,\n",
              "       140130.482315  , 208585.09677845, 154740.21767689, 111569.41110804,\n",
              "       160490.1507604 , 194476.14001739, 265455.847578  , 228823.78054846,\n",
              "       101359.83187348, 119102.99208921, 124450.27746418, 216592.24238345,\n",
              "       192639.71785578, 219821.7935016 , 121262.07371842, 193618.77221222,\n",
              "        73201.40837506, 179406.62248914, 120145.89666322, 226378.67569224,\n",
              "       144130.69723762, 193158.63910792, 139551.72010121, 184380.82969846,\n",
              "       234420.10197192, 144324.95439419, 133250.94065677, 232226.73966802,\n",
              "       150365.27089859, 118060.08751519, 225095.8063954 ,  99932.77318018,\n",
              "       149871.20805754, 235366.88028163, 234171.06592343, 204564.38363861,\n",
              "       118270.48269513, 122259.27072618, 120861.78157577, 195496.54174621,\n",
              "       214669.46715908, 260673.54195936, 200692.57102703, 103775.01624888,\n",
              "       234019.80982928, 322754.45543512, 110608.85034086, 230877.31364977,\n",
              "        84014.60823449,  70305.94361607, 127432.44622387, 248063.26268274,\n",
              "       220635.80930642, 177277.11040282, 275162.29264585,  76275.34320519,\n",
              "       368102.83722245, 117872.54611838, 149228.94656411, 184012.81360254,\n",
              "       317628.99213165, 116948.97252974, 239668.90551669, 183804.7739885 ,\n",
              "       216601.31370911, 173647.9690179 , 251349.24638283, 243268.82829666,\n",
              "       210270.96472178, 169094.20123052, 145941.9100502 , 144329.66552599,\n",
              "       174183.0282934 , 140743.52520349, 141457.05455013, 223085.27435651])"
            ]
          },
          "metadata": {},
          "execution_count": 18
        }
      ]
    },
    {
      "cell_type": "code",
      "source": [
        "from sklearn.metrics import mean_squared_error\n",
        "from sklearn.metrics import r2_score\n",
        "mse = mean_squared_error(y_test,y_pred)\n",
        "rmse = np.sqrt(mse)\n",
        "r2 = r2_score(y_test,y_pred)\n",
        "print(mse)\n",
        "print(rmse)\n",
        "print(r2)"
      ],
      "metadata": {
        "colab": {
          "base_uri": "https://localhost:8080/"
        },
        "id": "LCXjPxel5t0b",
        "outputId": "5384c750-67b2-4fde-ce9b-6fba551d53c6"
      },
      "execution_count": 20,
      "outputs": [
        {
          "output_type": "stream",
          "name": "stdout",
          "text": [
            "1717249853.4697752\n",
            "41439.71348199424\n",
            "0.6513483565229188\n"
          ]
        }
      ]
    }
  ]
}